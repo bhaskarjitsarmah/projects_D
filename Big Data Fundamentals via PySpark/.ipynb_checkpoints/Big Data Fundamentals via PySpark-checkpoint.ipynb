{
 "cells": [
  {
   "cell_type": "markdown",
   "metadata": {},
   "source": [
    "### Big Data Processing Systems"
   ]
  },
  {
   "cell_type": "markdown",
   "metadata": {},
   "source": [
    "<ol>**Hadoop/MapReduce**: Scalable and fault tolerant framework written in Java\n",
    "    <li>Open Source</li>\n",
    "    <li>Used a Batch Processing</li>\n",
    "</ol>"
   ]
  },
  {
   "cell_type": "markdown",
   "metadata": {},
   "source": [
    "<ol>**Apache Spark**: General purpose and lightning fast cluster computing system\n",
    "    <li>Open Source</li>\n",
    "    <li>Used as Batch Processing and Real Time Data Processing</li>\n",
    "</ol>"
   ]
  },
  {
   "cell_type": "markdown",
   "metadata": {},
   "source": [
    "### Features of Apache Spark Framework"
   ]
  },
  {
   "cell_type": "markdown",
   "metadata": {},
   "source": [
    "<li>Distributed cluster computing framework</li>\n",
    "<li>Distributed cluster computing framework</li>"
   ]
  }
 ],
 "metadata": {
  "kernelspec": {
   "display_name": "Python 3",
   "language": "python",
   "name": "python3"
  },
  "language_info": {
   "codemirror_mode": {
    "name": "ipython",
    "version": 3
   },
   "file_extension": ".py",
   "mimetype": "text/x-python",
   "name": "python",
   "nbconvert_exporter": "python",
   "pygments_lexer": "ipython3",
   "version": "3.6.5"
  }
 },
 "nbformat": 4,
 "nbformat_minor": 2
}
