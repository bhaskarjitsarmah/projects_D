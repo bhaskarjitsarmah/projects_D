{
 "cells": [
  {
   "cell_type": "markdown",
   "metadata": {},
   "source": [
    "The first step in every data analysis process is to - understanding what question is driving the analysis and that is the first thing that we should be focussed on - define the goals of analysis "
   ]
  },
  {
   "cell_type": "code",
   "execution_count": 1,
   "metadata": {},
   "outputs": [],
   "source": [
    "from pyspark.sql import SparkSession\n",
    "\n",
    "spark = SparkSession.builder.getOrCreate()"
   ]
  },
  {
   "cell_type": "code",
   "execution_count": 2,
   "metadata": {},
   "outputs": [
    {
     "name": "stdout",
     "output_type": "stream",
     "text": [
      "2.4.0\n"
     ]
    }
   ],
   "source": [
    "print(spark.version)"
   ]
  },
  {
   "cell_type": "code",
   "execution_count": 3,
   "metadata": {},
   "outputs": [
    {
     "name": "stdout",
     "output_type": "stream",
     "text": [
      "sys.version_info(major=3, minor=6, micro=5, releaselevel='final', serial=0)\n"
     ]
    }
   ],
   "source": [
    "import sys\n",
    "\n",
    "print(sys.version_info)"
   ]
  },
  {
   "cell_type": "markdown",
   "metadata": {},
   "source": [
    "### Loading data"
   ]
  },
  {
   "cell_type": "code",
   "execution_count": 4,
   "metadata": {},
   "outputs": [
    {
     "name": "stdout",
     "output_type": "stream",
     "text": [
      "['No.', 'MLSID', 'StreetNumberNumeric', 'streetaddress', 'STREETNAME', 'PostalCode', 'StateOrProvince', 'City', 'SalesClosePrice', 'LISTDATE', 'LISTPRICE', 'LISTTYPE', 'OriginalListPrice', 'PricePerTSFT', 'FOUNDATIONSIZE', 'FENCE', 'MapLetter', 'LotSizeDimensions', 'SchoolDistrictNumber', 'DAYSONMARKET', 'offmarketdate', 'Fireplaces', 'RoomArea4', 'roomtype', 'ROOF', 'RoomFloor4', 'PotentialShortSale', 'PoolDescription', 'PDOM', 'GarageDescription', 'SQFTABOVEGROUND', 'Taxes', 'RoomFloor1', 'RoomArea1', 'TAXWITHASSESSMENTS', 'TAXYEAR', 'LivingArea', 'UNITNUMBER', 'YEARBUILT', 'ZONING', 'STYLE', 'ACRES', 'CoolingDescription', 'APPLIANCES', 'backonmarketdate', 'ROOMFAMILYCHAR', 'RoomArea3', 'EXTERIOR', 'RoomFloor3', 'RoomFloor2', 'RoomArea2', 'DiningRoomDescription', 'BASEMENT', 'BathsFull', 'BathsHalf', 'BATHQUARTER', 'BATHSTHREEQUARTER', 'Class', 'BATHSTOTAL', 'BATHDESC', 'RoomArea5', 'RoomFloor5', 'RoomArea6', 'RoomFloor6', 'RoomArea7', 'RoomFloor7', 'RoomArea8', 'RoomFloor8', 'Bedrooms', 'SQFTBELOWGROUND', 'AssumableMortgage', 'AssociationFee', 'ASSESSMENTPENDING', 'AssessedValuation']\n"
     ]
    }
   ],
   "source": [
    "df = spark.read.csv('2017_StPaul_MN_Real_Estate.csv', inferSchema=True, header=True)\n",
    "print(df.columns)"
   ]
  },
  {
   "cell_type": "markdown",
   "metadata": {},
   "source": [
    "<font color='red'>The parameter `inferSchema` helps to infer data types of the features automatically. If it is not set to true, Spark assign `String` data types to all the variables<>"
   ]
  },
  {
   "cell_type": "markdown",
   "metadata": {},
   "source": [
    "### Verifying data load"
   ]
  },
  {
   "cell_type": "code",
   "execution_count": 5,
   "metadata": {},
   "outputs": [
    {
     "name": "stdout",
     "output_type": "stream",
     "text": [
      "Validation Passed\n"
     ]
    }
   ],
   "source": [
    "def check_load(df, num_records, num_columns):\n",
    "    # Takes a dataframe and compares record and column counts to input\n",
    "    # Message to return if the critera below aren't met\n",
    "    message = 'Validation Failed'\n",
    "    \n",
    "    # Check number of records\n",
    "    if num_records == df.count():\n",
    "        \n",
    "        # Check number of columns\n",
    "        if num_columns == len(df.columns):\n",
    "            \n",
    "            # Success message\n",
    "            message = 'Validation Passed'\n",
    "            \n",
    "    return message\n",
    "\n",
    "# Print the data validation message\n",
    "print(check_load(df, 5000, 74))"
   ]
  },
  {
   "cell_type": "markdown",
   "metadata": {},
   "source": [
    "### Verifying data types"
   ]
  },
  {
   "cell_type": "code",
   "execution_count": 6,
   "metadata": {},
   "outputs": [],
   "source": [
    "validation_dict = {'ASSESSMENTPENDING': 'string',\n",
    " 'AssessedValuation': 'double',\n",
    " 'AssociationFee': 'bigint',\n",
    " 'AssumableMortgage': 'string',\n",
    " 'SQFTBELOWGROUND': 'bigint'}"
   ]
  },
  {
   "cell_type": "code",
   "execution_count": 7,
   "metadata": {},
   "outputs": [
    {
     "name": "stdout",
     "output_type": "stream",
     "text": [
      "[('No.', 'int'), ('MLSID', 'string'), ('StreetNumberNumeric', 'int'), ('streetaddress', 'string'), ('STREETNAME', 'string'), ('PostalCode', 'int'), ('StateOrProvince', 'string'), ('City', 'string'), ('SalesClosePrice', 'int'), ('LISTDATE', 'string'), ('LISTPRICE', 'int'), ('LISTTYPE', 'string'), ('OriginalListPrice', 'int'), ('PricePerTSFT', 'double'), ('FOUNDATIONSIZE', 'int'), ('FENCE', 'string'), ('MapLetter', 'string'), ('LotSizeDimensions', 'string'), ('SchoolDistrictNumber', 'string'), ('DAYSONMARKET', 'int'), ('offmarketdate', 'string'), ('Fireplaces', 'int'), ('RoomArea4', 'string'), ('roomtype', 'string'), ('ROOF', 'string'), ('RoomFloor4', 'string'), ('PotentialShortSale', 'string'), ('PoolDescription', 'string'), ('PDOM', 'int'), ('GarageDescription', 'string'), ('SQFTABOVEGROUND', 'int'), ('Taxes', 'int'), ('RoomFloor1', 'string'), ('RoomArea1', 'string'), ('TAXWITHASSESSMENTS', 'double'), ('TAXYEAR', 'int'), ('LivingArea', 'int'), ('UNITNUMBER', 'string'), ('YEARBUILT', 'int'), ('ZONING', 'string'), ('STYLE', 'string'), ('ACRES', 'double'), ('CoolingDescription', 'string'), ('APPLIANCES', 'string'), ('backonmarketdate', 'string'), ('ROOMFAMILYCHAR', 'string'), ('RoomArea3', 'string'), ('EXTERIOR', 'string'), ('RoomFloor3', 'string'), ('RoomFloor2', 'string'), ('RoomArea2', 'string'), ('DiningRoomDescription', 'string'), ('BASEMENT', 'string'), ('BathsFull', 'int'), ('BathsHalf', 'int'), ('BATHQUARTER', 'int'), ('BATHSTHREEQUARTER', 'int'), ('Class', 'string'), ('BATHSTOTAL', 'int'), ('BATHDESC', 'string'), ('RoomArea5', 'string'), ('RoomFloor5', 'string'), ('RoomArea6', 'string'), ('RoomFloor6', 'string'), ('RoomArea7', 'string'), ('RoomFloor7', 'string'), ('RoomArea8', 'string'), ('RoomFloor8', 'string'), ('Bedrooms', 'int'), ('SQFTBELOWGROUND', 'int'), ('AssumableMortgage', 'string'), ('AssociationFee', 'int'), ('ASSESSMENTPENDING', 'string'), ('AssessedValuation', 'double')]\n",
      "AssumableMortgage has expected dtype.\n",
      "ASSESSMENTPENDING has expected dtype.\n",
      "AssessedValuation has expected dtype.\n"
     ]
    }
   ],
   "source": [
    "# create list of actual dtypes to check\n",
    "actual_dtypes_list = df.dtypes\n",
    "print(actual_dtypes_list)\n",
    "\n",
    "# Iterate through the list of actual dtypes tuples\n",
    "for attribute_tuple in actual_dtypes_list:\n",
    "    \n",
    "    # Check if column name is dictionary of expected dtypes\n",
    "    col_name = attribute_tuple[0]\n",
    "    if col_name in validation_dict:\n",
    "        \n",
    "        # Compare attribute types\n",
    "        col_type = attribute_tuple[1]\n",
    "        if col_type == validation_dict[col_name]:\n",
    "            print(col_name + ' has expected dtype.')"
   ]
  },
  {
   "cell_type": "markdown",
   "metadata": {},
   "source": [
    "### EDA"
   ]
  },
  {
   "cell_type": "code",
   "execution_count": 8,
   "metadata": {},
   "outputs": [],
   "source": [
    "columns = ['FOUNDATIONSIZE',\n",
    " 'DAYSONMARKET',\n",
    " 'Fireplaces',\n",
    " 'PDOM',\n",
    " 'SQFTABOVEGROUND',\n",
    " 'Taxes',\n",
    " 'TAXWITHASSESSMENTS',\n",
    " 'TAXYEAR',\n",
    " 'LivingArea',\n",
    " 'YEARBUILT',\n",
    " 'ACRES',\n",
    " #'backonmarketdate',\n",
    " 'BathsFull',\n",
    " 'BathsHalf',\n",
    " 'BATHQUARTER',\n",
    " 'BATHSTHREEQUARTER',\n",
    " 'BATHSTOTAL',\n",
    " 'Bedrooms',\n",
    " 'SQFTBELOWGROUND',\n",
    " 'AssociationFee',\n",
    " 'AssessedValuation']"
   ]
  },
  {
   "cell_type": "code",
   "execution_count": 9,
   "metadata": {},
   "outputs": [
    {
     "name": "stdout",
     "output_type": "stream",
     "text": [
      "LivingArea\n"
     ]
    }
   ],
   "source": [
    "# Name and value of col with max corr\n",
    "corr_max = 0\n",
    "corr_max_col = columns[0]\n",
    "\n",
    "# Loop to check all columns contained in list\n",
    "for col in columns:\n",
    "    # Check the correlation of a pair of columns\n",
    "    corr_val = df.corr(col, 'SalesClosePrice')\n",
    "    # Logic to compare corr_max with current corr_val\n",
    "    if corr_val > corr_max:\n",
    "        # Update the column name and corr value\n",
    "        corr_max = corr_val\n",
    "        corr_max_col = col\n",
    "\n",
    "print(corr_max_col)"
   ]
  },
  {
   "cell_type": "markdown",
   "metadata": {},
   "source": [
    "<li><font color='red'>How to uppercase the column names in Spark dataframes?</font></li>\n",
    "<ol><font color='green'>from pyspark.sql import functions as F \n",
    "    <br></br>\n",
    "    df.select([F.col(x).alias(x.lower()) for x in df.columns]).show()</font></ol>\n",
    "<li><font color='red'>How to change the column data types in Spark dataframes</font></li>"
   ]
  },
  {
   "cell_type": "markdown",
   "metadata": {},
   "source": [
    "### Data Visualization"
   ]
  },
  {
   "cell_type": "code",
   "execution_count": 10,
   "metadata": {},
   "outputs": [],
   "source": [
    "import seaborn as sns\n",
    "import matplotlib.pyplot as plt\n",
    "\n",
    "%matplotlib inline\n",
    "\n",
    "import warnings\n",
    "warnings.filterwarnings('ignore')"
   ]
  },
  {
   "cell_type": "markdown",
   "metadata": {},
   "source": [
    "#### density plot"
   ]
  },
  {
   "cell_type": "code",
   "execution_count": 11,
   "metadata": {},
   "outputs": [
    {
     "data": {
      "image/png": "[encoded data removed]",
      "text/plain": [
       "<Figure size 432x288 with 1 Axes>"
      ]
     },
     "metadata": {},
     "output_type": "display_data"
    },
    {
     "name": "stdout",
     "output_type": "stream",
     "text": [
      "[Row(skewness(LISTPRICE)=2.790448093916559)]\n"
     ]
    }
   ],
   "source": [
    "# Select a single column and sample and convert to pandas\n",
    "sample_df = df.select(['LISTPRICE']).sample(False, 0.5, 42)\n",
    "pandas_df = sample_df.toPandas()\n",
    "\n",
    "# Plot distribution of pandas_df and display plot\n",
    "sns.distplot(pandas_df)\n",
    "plt.show()\n",
    "\n",
    "# Import skewness function\n",
    "from pyspark.sql.functions import skewness\n",
    "\n",
    "# Compute and print skewness of LISTPRICE\n",
    "print(df.agg({'LISTPRICE': 'skewness'}).collect())"
   ]
  },
  {
   "cell_type": "markdown",
   "metadata": {},
   "source": [
    "#### linear model plot"
   ]
  },
  {
   "cell_type": "markdown",
   "metadata": {},
   "source": [
    "Creating linear model plots helps us visualize if variables have relationships with the dependent variable. If they do they are good candidates to include in our analysis. If they don't it doesn't mean that we should throw them out, it means we may have to process or wrangle them before they can be used."
   ]
  },
  {
   "cell_type": "code",
   "execution_count": 12,
   "metadata": {},
   "outputs": [
    {
     "data": {
      "image/png": "[encoded data removed]",
      "text/plain": [
       "<Figure size 360x360 with 1 Axes>"
      ]
     },
     "metadata": {},
     "output_type": "display_data"
    }
   ],
   "source": [
    "# Select a the relevant columns and sample\n",
    "sample_df = df.select(['SalesClosePrice', 'LivingArea']).sample(False, 0.5, 42)\n",
    "\n",
    "# Convert to pandas dataframe\n",
    "pandas_df = sample_df.toPandas()\n",
    "\n",
    "# Linear model plot of pandas_df\n",
    "sns.lmplot(x='LivingArea', y='SalesClosePrice', data=pandas_df)\n",
    "plt.show()"
   ]
  },
  {
   "cell_type": "markdown",
   "metadata": {},
   "source": [
    "### Where can data go bad?"
   ]
  },
  {
   "cell_type": "markdown",
   "metadata": {},
   "source": [
    "<ol>\n",
    "    <li>Recorded wrong</li>\n",
    "    <li>Unique events</li>\n",
    "    <li>Formatted incorrectly</li>\n",
    "    <li>Duplications</li>\n",
    "    <li>Missing data</li>\n",
    "    <li>Non relevant data</li>\n",
    "</ol>"
   ]
  },
  {
   "cell_type": "markdown",
   "metadata": {},
   "source": [
    "## Data Wrangling with Spark functions"
   ]
  },
  {
   "cell_type": "code",
   "execution_count": 13,
   "metadata": {},
   "outputs": [
    {
     "name": "stdout",
     "output_type": "stream",
     "text": [
      "+-------------------+----------+--------------------+---------------+-----+\n",
      "|StreetNumberNumeric|Fireplaces|   LotSizeDimensions|       LISTTYPE|ACRES|\n",
      "+-------------------+----------+--------------------+---------------+-----+\n",
      "|              11511|         0|             279X200|Exclusive Right| 1.28|\n",
      "|              11200|         0|             100x140|Exclusive Right| 0.32|\n",
      "|               8583|         0|             120x296|Exclusive Right|0.822|\n",
      "|               9350|         1|             208X208|Exclusive Right| 0.94|\n",
      "|               2915|         1|             116x200|Exclusive Right|  0.0|\n",
      "|               3604|         1|              50x150|Exclusive Right|0.172|\n",
      "|               9957|         0|              common|Exclusive Right| 0.05|\n",
      "|               9934|         0|              common|Exclusive Right| 0.05|\n",
      "|               9926|         0|              common|Exclusive Right| 0.05|\n",
      "|               9928|         0|              common|Exclusive Right| 0.05|\n",
      "|               9902|         0|              common|Exclusive Right| 0.05|\n",
      "|               9904|         0|              common|Exclusive Right| 0.05|\n",
      "|               9894|         0|              common|Exclusive Right| 0.05|\n",
      "|               9892|         0|              COMMON|Exclusive Right| 0.05|\n",
      "|               9295|         1|261 x 293 x 287 x...|Exclusive Right|1.661|\n",
      "|               9930|         0|               36X32|Exclusive Right| 0.05|\n",
      "|               9898|         0|               36X32|Exclusive Right| 0.05|\n",
      "|               9924|         0|              COMMON|Exclusive Right| 0.05|\n",
      "|               9906|         0|              COMMON|Exclusive Right| 0.05|\n",
      "|               9938|         0|              COMMON|Exclusive Right| 0.05|\n",
      "|               9795|         1|               32X60|Exclusive Right| 0.04|\n",
      "|               9797|         1|               32X60|Exclusive Right| 0.04|\n",
      "|               8909|         2|             125x150|Exclusive Right| 0.43|\n",
      "|               3597|         2|             100x250|Exclusive Right|0.574|\n",
      "|               8656|         1|     151x158x130x151|Exclusive Right|0.498|\n",
      "|               9775|         1|               36X32|Exclusive Right| 0.04|\n",
      "|               8687|         2|                   -|Exclusive Right| 1.03|\n",
      "|               8367|         0|             285x305|Exclusive Right|1.995|\n",
      "|               2866|         0|           Irregular|Exclusive Right| 0.72|\n",
      "|               9793|         1|               42x60|Exclusive Right| 0.06|\n",
      "+-------------------+----------+--------------------+---------------+-----+\n",
      "only showing top 30 rows\n",
      "\n"
     ]
    }
   ],
   "source": [
    "df_small = df.select('StreetNumberNumeric', 'Fireplaces', 'LotSizeDimensions', 'LISTTYPE', 'ACRES')\n",
    "df_small.show(30)"
   ]
  },
  {
   "cell_type": "code",
   "execution_count": 14,
   "metadata": {},
   "outputs": [],
   "source": [
    "cols_to_drop = ['StreetNumberNumeric', 'LotSizeDimensions']\n",
    "df_small = df_small.drop(*cols_to_drop)"
   ]
  },
  {
   "cell_type": "code",
   "execution_count": 15,
   "metadata": {},
   "outputs": [
    {
     "name": "stdout",
     "output_type": "stream",
     "text": [
      "+----------+---------------+-----+\n",
      "|Fireplaces|       LISTTYPE|ACRES|\n",
      "+----------+---------------+-----+\n",
      "|         0|Exclusive Right| 1.28|\n",
      "|         0|Exclusive Right| 0.32|\n",
      "|         0|Exclusive Right|0.822|\n",
      "|         1|Exclusive Right| 0.94|\n",
      "|         1|Exclusive Right|  0.0|\n",
      "|         1|Exclusive Right|0.172|\n",
      "|         0|Exclusive Right| 0.05|\n",
      "|         0|Exclusive Right| 0.05|\n",
      "|         0|Exclusive Right| 0.05|\n",
      "|         0|Exclusive Right| 0.05|\n",
      "|         0|Exclusive Right| 0.05|\n",
      "|         0|Exclusive Right| 0.05|\n",
      "|         0|Exclusive Right| 0.05|\n",
      "|         0|Exclusive Right| 0.05|\n",
      "|         1|Exclusive Right|1.661|\n",
      "|         0|Exclusive Right| 0.05|\n",
      "|         0|Exclusive Right| 0.05|\n",
      "|         0|Exclusive Right| 0.05|\n",
      "|         0|Exclusive Right| 0.05|\n",
      "|         0|Exclusive Right| 0.05|\n",
      "+----------+---------------+-----+\n",
      "only showing top 20 rows\n",
      "\n"
     ]
    }
   ],
   "source": [
    "df_small.show()"
   ]
  },
  {
   "cell_type": "markdown",
   "metadata": {},
   "source": [
    "### Using text filters to remove records"
   ]
  },
  {
   "cell_type": "code",
   "execution_count": 16,
   "metadata": {},
   "outputs": [
    {
     "name": "stdout",
     "output_type": "stream",
     "text": [
      "+-------------------+\n",
      "|  AssumableMortgage|\n",
      "+-------------------+\n",
      "|  Yes w/ Qualifying|\n",
      "| Information Coming|\n",
      "|               null|\n",
      "|Yes w/No Qualifying|\n",
      "|      Not Assumable|\n",
      "+-------------------+\n",
      "\n",
      "4976\n"
     ]
    }
   ],
   "source": [
    "# Inspect unique values in the column 'AssumableMortgage'\n",
    "df.select(['AssumableMortgage']).distinct().show()\n",
    "\n",
    "# List of possible values containing 'yes'\n",
    "yes_values = ['Yes w/ Qualifying', 'Yes w/No Qualifying']\n",
    "\n",
    "# Filter the text values out of df but keep null values\n",
    "text_filter = ~df['AssumableMortgage'].isin(yes_values) | df['AssumableMortgage'].isNull()\n",
    "df = df.where(text_filter)\n",
    "\n",
    "# Print count of remaining records\n",
    "print(df.count())"
   ]
  },
  {
   "cell_type": "markdown",
   "metadata": {},
   "source": [
    "### Filtering numeric fields conditionally"
   ]
  },
  {
   "cell_type": "code",
   "execution_count": 17,
   "metadata": {},
   "outputs": [],
   "source": [
    "from pyspark.sql.functions import mean, stddev\n",
    "\n",
    "# Calculate values used for outlier filtering\n",
    "mean_val = df.agg({'SalesClosePrice': 'mean'}).collect()[0][0]\n",
    "stddev_val = df.agg({'SalesClosePrice': 'stddev'}).collect()[0][0]\n",
    "\n",
    "# Create three standard deviation (μ ± 3σ) lower and upper bounds for data\n",
    "low_bound = mean_val - (3 * stddev_val)\n",
    "hi_bound = mean_val + (3 * stddev_val)\n",
    "\n",
    "# Filter the data to fit between the lower and upper bounds\n",
    "df = df.where((df['SalesClosePrice'] < hi_bound) & (df['SalesClosePrice'] > low_bound))"
   ]
  },
  {
   "cell_type": "markdown",
   "metadata": {},
   "source": [
    "### Scaling the data"
   ]
  },
  {
   "cell_type": "code",
   "execution_count": 20,
   "metadata": {},
   "outputs": [
    {
     "name": "stdout",
     "output_type": "stream",
     "text": [
      "[Row(max(percentage_scaled_days)=100.0)]\n",
      "[Row(min(percentage_scaled_days)=0.0)]\n"
     ]
    }
   ],
   "source": [
    "from pyspark.sql.functions import round\n",
    "\n",
    "# Define max and min values and collect them\n",
    "max_days = df.agg({'DAYSONMARKET': 'max'}).collect()[0][0]\n",
    "min_days = df.agg({'DAYSONMARKET': 'min'}).collect()[0][0]\n",
    "\n",
    "# Create a new column based off the scaled data\n",
    "df = df.withColumn('percentage_scaled_days', \n",
    "                  round((df['DAYSONMARKET'] - min_days) / (max_days - min_days)) * 100)\n",
    "\n",
    "# Calc max and min for new column\n",
    "print(df.agg({'percentage_scaled_days': 'max'}).collect())\n",
    "print(df.agg({'percentage_scaled_days': 'min'}).collect())"
   ]
  },
  {
   "cell_type": "markdown",
   "metadata": {},
   "source": [
    "### Scaling multiple features"
   ]
  },
  {
   "cell_type": "code",
   "execution_count": 21,
   "metadata": {},
   "outputs": [
    {
     "name": "stdout",
     "output_type": "stream",
     "text": [
      "+------------+--------------------+\n",
      "|DAYSONMARKET| scaled_DAYSONMARKET|\n",
      "+------------+--------------------+\n",
      "|          10|0.044444444444444446|\n",
      "|           4|0.017777777777777778|\n",
      "|          28| 0.12444444444444444|\n",
      "|          19| 0.08444444444444445|\n",
      "|          21| 0.09333333333333334|\n",
      "|          17| 0.07555555555555556|\n",
      "|          32| 0.14222222222222222|\n",
      "|           5|0.022222222222222223|\n",
      "|          23| 0.10222222222222223|\n",
      "|          73|  0.3244444444444444|\n",
      "|          80| 0.35555555555555557|\n",
      "|          79|  0.3511111111111111|\n",
      "|          12| 0.05333333333333334|\n",
      "|           1|0.004444444444444...|\n",
      "|          18|                0.08|\n",
      "|           2|0.008888888888888889|\n",
      "|          12| 0.05333333333333334|\n",
      "|          45|                 0.2|\n",
      "|          31| 0.13777777777777778|\n",
      "|          16| 0.07111111111111111|\n",
      "+------------+--------------------+\n",
      "only showing top 20 rows\n",
      "\n"
     ]
    }
   ],
   "source": [
    "cols_to_scale = ['FOUNDATIONSIZE', 'DAYSONMARKET', 'Fireplaces']\n",
    "\n",
    "def min_max_scaler(df, cols_to_scale):\n",
    "    # Takes a dataframe and list of columns to minmax scale. Returns a dataframe.\n",
    "    for col in cols_to_scale:\n",
    "        # Define min and max values and collect them\n",
    "        max_days = df.agg({col: 'max'}).collect()[0][0]\n",
    "        min_days = df.agg({col: 'min'}).collect()[0][0]\n",
    "        new_column_name = 'scaled_' + col\n",
    "        # Create a new column based off the scaled data\n",
    "        df = df.withColumn(new_column_name, (df[col] - min_days) / (max_days - min_days))\n",
    "    \n",
    "    return df\n",
    "\n",
    "df = min_max_scaler(df, cols_to_scale)\n",
    "# Show that our data is now between 0 and 1\n",
    "df[['DAYSONMARKET', 'scaled_DAYSONMARKET']].show()"
   ]
  },
  {
   "cell_type": "markdown",
   "metadata": {},
   "source": [
    "### Correcting right skew data"
   ]
  },
  {
   "cell_type": "code",
   "execution_count": 22,
   "metadata": {},
   "outputs": [
    {
     "name": "stdout",
     "output_type": "stream",
     "text": [
      "[Row(skewness(YEARBUILT)=-0.2530704729706863)]\n"
     ]
    }
   ],
   "source": [
    "from pyspark.sql.functions import log\n",
    "\n",
    "# Compute the skewness\n",
    "print(df.agg({'YEARBUILT': 'skewness'}).collect())\n",
    "\n",
    "# Calculate the max year\n",
    "max_year = df.agg({'YEARBUILT': 'max'}).collect()[0][0]\n",
    "\n",
    "# Create a new column of reflected data\n",
    "df = df.withColumn('Reflect_YearBuilt', (max_year + 1) - df['YEARBUILT'])\n",
    "\n",
    "# Create a new column based reflected data\n",
    "df = df.withColumn('adj_yearbuilt', 1 / log(df['Reflect_YearBuilt']))"
   ]
  },
  {
   "cell_type": "markdown",
   "metadata": {},
   "source": [
    "### Visualizing missing data"
   ]
  },
  {
   "cell_type": "code",
   "execution_count": 23,
   "metadata": {},
   "outputs": [
    {
     "data": {
      "image/png": "[encoded data removed]",
      "text/plain": [
       "<Figure size 432x288 with 2 Axes>"
      ]
     },
     "metadata": {},
     "output_type": "display_data"
    }
   ],
   "source": [
    "columns = ['APPLIANCES', 'backonmarketdate', 'ROOMFAMILYCHAR', 'BASEMENT', 'DiningRoomDescription']\n",
    "\n",
    "# Sample the dataframe and convert to Pandas\n",
    "sample_df = df.select(columns).sample(False, 0.5, 42)\n",
    "pandas_df = sample_df.toPandas()\n",
    "\n",
    "# Convert all values to T/F\n",
    "tf_df = pandas_df.isnull()\n",
    "\n",
    "# Plot it\n",
    "sns.heatmap(data=tf_df)\n",
    "plt.xticks(rotation=30, fontsize=10)\n",
    "plt.yticks(rotation=0, fontsize=10)\n",
    "plt.show()"
   ]
  },
  {
   "cell_type": "code",
   "execution_count": null,
   "metadata": {},
   "outputs": [],
   "source": []
  }
 ],
 "metadata": {
  "kernelspec": {
   "display_name": "Python 3",
   "language": "python",
   "name": "python3"
  },
  "language_info": {
   "codemirror_mode": {
    "name": "ipython",
    "version": 3
   },
   "file_extension": ".py",
   "mimetype": "text/x-python",
   "name": "python",
   "nbconvert_exporter": "python",
   "pygments_lexer": "ipython3",
   "version": "3.6.5"
  }
 },
 "nbformat": 4,
 "nbformat_minor": 2
}
