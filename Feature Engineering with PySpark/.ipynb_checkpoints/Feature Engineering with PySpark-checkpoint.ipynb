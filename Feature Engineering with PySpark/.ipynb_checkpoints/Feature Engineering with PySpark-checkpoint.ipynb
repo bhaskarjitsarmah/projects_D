{
 "cells": [
  {
   "cell_type": "markdown",
   "metadata": {},
   "source": [
    "The first step in every data analysis process is to - understanding what question is driving the analysis and that is the first thing that we should be focussed on - define the goals of analysis "
   ]
  },
  {
   "cell_type": "code",
   "execution_count": 1,
   "metadata": {},
   "outputs": [],
   "source": [
    "from pyspark.sql import SparkSession\n",
    "\n",
    "spark = SparkSession.builder.getOrCreate()"
   ]
  },
  {
   "cell_type": "code",
   "execution_count": 2,
   "metadata": {},
   "outputs": [
    {
     "name": "stdout",
     "output_type": "stream",
     "text": [
      "2.4.0\n"
     ]
    }
   ],
   "source": [
    "print(spark.version)"
   ]
  },
  {
   "cell_type": "code",
   "execution_count": 3,
   "metadata": {},
   "outputs": [
    {
     "name": "stdout",
     "output_type": "stream",
     "text": [
      "sys.version_info(major=3, minor=6, micro=5, releaselevel='final', serial=0)\n"
     ]
    }
   ],
   "source": [
    "import sys\n",
    "\n",
    "print(sys.version_info)"
   ]
  },
  {
   "cell_type": "markdown",
   "metadata": {},
   "source": [
    "### Loading data"
   ]
  },
  {
   "cell_type": "code",
   "execution_count": 4,
   "metadata": {},
   "outputs": [
    {
     "name": "stdout",
     "output_type": "stream",
     "text": [
      "['No.', 'MLSID', 'StreetNumberNumeric', 'streetaddress', 'STREETNAME', 'PostalCode', 'StateOrProvince', 'City', 'SalesClosePrice', 'LISTDATE', 'LISTPRICE', 'LISTTYPE', 'OriginalListPrice', 'PricePerTSFT', 'FOUNDATIONSIZE', 'FENCE', 'MapLetter', 'LotSizeDimensions', 'SchoolDistrictNumber', 'DAYSONMARKET', 'offmarketdate', 'Fireplaces', 'RoomArea4', 'roomtype', 'ROOF', 'RoomFloor4', 'PotentialShortSale', 'PoolDescription', 'PDOM', 'GarageDescription', 'SQFTABOVEGROUND', 'Taxes', 'RoomFloor1', 'RoomArea1', 'TAXWITHASSESSMENTS', 'TAXYEAR', 'LivingArea', 'UNITNUMBER', 'YEARBUILT', 'ZONING', 'STYLE', 'ACRES', 'CoolingDescription', 'APPLIANCES', 'backonmarketdate', 'ROOMFAMILYCHAR', 'RoomArea3', 'EXTERIOR', 'RoomFloor3', 'RoomFloor2', 'RoomArea2', 'DiningRoomDescription', 'BASEMENT', 'BathsFull', 'BathsHalf', 'BATHQUARTER', 'BATHSTHREEQUARTER', 'Class', 'BATHSTOTAL', 'BATHDESC', 'RoomArea5', 'RoomFloor5', 'RoomArea6', 'RoomFloor6', 'RoomArea7', 'RoomFloor7', 'RoomArea8', 'RoomFloor8', 'Bedrooms', 'SQFTBELOWGROUND', 'AssumableMortgage', 'AssociationFee', 'ASSESSMENTPENDING', 'AssessedValuation']\n"
     ]
    }
   ],
   "source": [
    "df = spark.read.csv('2017_StPaul_MN_Real_Estate.csv', inferSchema=True, header=True)\n",
    "print(df.columns)"
   ]
  },
  {
   "cell_type": "markdown",
   "metadata": {},
   "source": [
    "<font color='red'>The parameter `inferSchema` helps to infer data types of the features automatically. If it is not set to true, Spark assign `String` data types to all the variables<>"
   ]
  },
  {
   "cell_type": "markdown",
   "metadata": {},
   "source": [
    "### Verifying data load"
   ]
  },
  {
   "cell_type": "code",
   "execution_count": 5,
   "metadata": {},
   "outputs": [
    {
     "name": "stdout",
     "output_type": "stream",
     "text": [
      "Validation Passed\n"
     ]
    }
   ],
   "source": [
    "def check_load(df, num_records, num_columns):\n",
    "    # Takes a dataframe and compares record and column counts to input\n",
    "    # Message to return if the critera below aren't met\n",
    "    message = 'Validation Failed'\n",
    "    \n",
    "    # Check number of records\n",
    "    if num_records == df.count():\n",
    "        \n",
    "        # Check number of columns\n",
    "        if num_columns == len(df.columns):\n",
    "            \n",
    "            # Success message\n",
    "            message = 'Validation Passed'\n",
    "            \n",
    "    return message\n",
    "\n",
    "# Print the data validation message\n",
    "print(check_load(df, 5000, 74))"
   ]
  },
  {
   "cell_type": "markdown",
   "metadata": {},
   "source": [
    "### Verifying data types"
   ]
  },
  {
   "cell_type": "code",
   "execution_count": 6,
   "metadata": {},
   "outputs": [],
   "source": [
    "validation_dict = {'ASSESSMENTPENDING': 'string',\n",
    " 'AssessedValuation': 'double',\n",
    " 'AssociationFee': 'bigint',\n",
    " 'AssumableMortgage': 'string',\n",
    " 'SQFTBELOWGROUND': 'bigint'}"
   ]
  },
  {
   "cell_type": "code",
   "execution_count": 7,
   "metadata": {},
   "outputs": [
    {
     "name": "stdout",
     "output_type": "stream",
     "text": [
      "[('No.', 'int'), ('MLSID', 'string'), ('StreetNumberNumeric', 'int'), ('streetaddress', 'string'), ('STREETNAME', 'string'), ('PostalCode', 'int'), ('StateOrProvince', 'string'), ('City', 'string'), ('SalesClosePrice', 'int'), ('LISTDATE', 'string'), ('LISTPRICE', 'int'), ('LISTTYPE', 'string'), ('OriginalListPrice', 'int'), ('PricePerTSFT', 'double'), ('FOUNDATIONSIZE', 'int'), ('FENCE', 'string'), ('MapLetter', 'string'), ('LotSizeDimensions', 'string'), ('SchoolDistrictNumber', 'string'), ('DAYSONMARKET', 'int'), ('offmarketdate', 'string'), ('Fireplaces', 'int'), ('RoomArea4', 'string'), ('roomtype', 'string'), ('ROOF', 'string'), ('RoomFloor4', 'string'), ('PotentialShortSale', 'string'), ('PoolDescription', 'string'), ('PDOM', 'int'), ('GarageDescription', 'string'), ('SQFTABOVEGROUND', 'int'), ('Taxes', 'int'), ('RoomFloor1', 'string'), ('RoomArea1', 'string'), ('TAXWITHASSESSMENTS', 'double'), ('TAXYEAR', 'int'), ('LivingArea', 'int'), ('UNITNUMBER', 'string'), ('YEARBUILT', 'int'), ('ZONING', 'string'), ('STYLE', 'string'), ('ACRES', 'double'), ('CoolingDescription', 'string'), ('APPLIANCES', 'string'), ('backonmarketdate', 'string'), ('ROOMFAMILYCHAR', 'string'), ('RoomArea3', 'string'), ('EXTERIOR', 'string'), ('RoomFloor3', 'string'), ('RoomFloor2', 'string'), ('RoomArea2', 'string'), ('DiningRoomDescription', 'string'), ('BASEMENT', 'string'), ('BathsFull', 'int'), ('BathsHalf', 'int'), ('BATHQUARTER', 'int'), ('BATHSTHREEQUARTER', 'int'), ('Class', 'string'), ('BATHSTOTAL', 'int'), ('BATHDESC', 'string'), ('RoomArea5', 'string'), ('RoomFloor5', 'string'), ('RoomArea6', 'string'), ('RoomFloor6', 'string'), ('RoomArea7', 'string'), ('RoomFloor7', 'string'), ('RoomArea8', 'string'), ('RoomFloor8', 'string'), ('Bedrooms', 'int'), ('SQFTBELOWGROUND', 'int'), ('AssumableMortgage', 'string'), ('AssociationFee', 'int'), ('ASSESSMENTPENDING', 'string'), ('AssessedValuation', 'double')]\n",
      "AssumableMortgage has expected dtype.\n",
      "ASSESSMENTPENDING has expected dtype.\n",
      "AssessedValuation has expected dtype.\n"
     ]
    }
   ],
   "source": [
    "# create list of actual dtypes to check\n",
    "actual_dtypes_list = df.dtypes\n",
    "print(actual_dtypes_list)\n",
    "\n",
    "# Iterate through the list of actual dtypes tuples\n",
    "for attribute_tuple in actual_dtypes_list:\n",
    "    \n",
    "    # Check if column name is dictionary of expected dtypes\n",
    "    col_name = attribute_tuple[0]\n",
    "    if col_name in validation_dict:\n",
    "        \n",
    "        # Compare attribute types\n",
    "        col_type = attribute_tuple[1]\n",
    "        if col_type == validation_dict[col_name]:\n",
    "            print(col_name + ' has expected dtype.')"
   ]
  },
  {
   "cell_type": "markdown",
   "metadata": {},
   "source": [
    "### EDA"
   ]
  },
  {
   "cell_type": "code",
   "execution_count": 9,
   "metadata": {},
   "outputs": [],
   "source": [
    "columns = ['FOUNDATIONSIZE',\n",
    " 'DAYSONMARKET',\n",
    " 'Fireplaces',\n",
    " 'PDOM',\n",
    " 'SQFTABOVEGROUND',\n",
    " 'Taxes',\n",
    " 'TAXWITHASSESSMENTS',\n",
    " 'TAXYEAR',\n",
    " 'LivingArea',\n",
    " 'YEARBUILT',\n",
    " 'ACRES',\n",
    " #'backonmarketdate',\n",
    " 'BathsFull',\n",
    " 'BathsHalf',\n",
    " 'BATHQUARTER',\n",
    " 'BATHSTHREEQUARTER',\n",
    " 'BATHSTOTAL',\n",
    " 'Bedrooms',\n",
    " 'SQFTBELOWGROUND',\n",
    " 'AssociationFee',\n",
    " 'AssessedValuation']"
   ]
  },
  {
   "cell_type": "code",
   "execution_count": 10,
   "metadata": {},
   "outputs": [
    {
     "name": "stdout",
     "output_type": "stream",
     "text": [
      "LivingArea\n"
     ]
    }
   ],
   "source": [
    "# Name and value of col with max corr\n",
    "corr_max = 0\n",
    "corr_max_col = columns[0]\n",
    "\n",
    "# Loop to check all columns contained in list\n",
    "for col in columns:\n",
    "    # Check the correlation of a pair of columns\n",
    "    corr_val = df.corr(col, 'SalesClosePrice')\n",
    "    # Logic to compare corr_max with current corr_val\n",
    "    if corr_val > corr_max:\n",
    "        # Update the column name and corr value\n",
    "        corr_max = corr_val\n",
    "        corr_max_col = col\n",
    "\n",
    "print(corr_max_col)"
   ]
  },
  {
   "cell_type": "markdown",
   "metadata": {},
   "source": [
    "<li><font color='red'>How to uppercase the column names in Spark dataframes?</font></li>\n",
    "<ol><font color='green'>from pyspark.sql import functions as F \n",
    "    <br></br>\n",
    "    df.select([F.col(x).alias(x.lower()) for x in df.columns]).show()</font></ol>\n",
    "<li><font color='red'>How to change the column data types in Spark dataframes</font></li>"
   ]
  },
  {
   "cell_type": "markdown",
   "metadata": {},
   "source": [
    "### Data Visualization"
   ]
  },
  {
   "cell_type": "code",
   "execution_count": 15,
   "metadata": {},
   "outputs": [],
   "source": [
    "import seaborn as sns\n",
    "import matplotlib.pyplot as plt\n",
    "\n",
    "%matplotlib inline\n",
    "\n",
    "import warnings\n",
    "warnings.filterwarnings('ignore')"
   ]
  },
  {
   "cell_type": "code",
   "execution_count": 16,
   "metadata": {},
   "outputs": [
    {
     "data": {
      "image/png": "[encoded data removed]",
      "text/plain": [
       "<Figure size 432x288 with 1 Axes>"
      ]
     },
     "metadata": {},
     "output_type": "display_data"
    },
    {
     "name": "stdout",
     "output_type": "stream",
     "text": [
      "[Row(skewness(LISTPRICE)=2.790448093916559)]\n"
     ]
    }
   ],
   "source": [
    "# Select a single column and sample and convert to pandas\n",
    "sample_df = df.select(['LISTPRICE']).sample(False, 0.5, 42)\n",
    "pandas_df = sample_df.toPandas()\n",
    "\n",
    "# Plot distribution of pandas_df and display plot\n",
    "sns.distplot(pandas_df)\n",
    "plt.show()\n",
    "\n",
    "# Import skewness function\n",
    "from pyspark.sql.functions import skewness\n",
    "\n",
    "# Compute and print skewness of LISTPRICE\n",
    "print(df.agg({'LISTPRICE': 'skewness'}).collect())"
   ]
  },
  {
   "cell_type": "code",
   "execution_count": null,
   "metadata": {},
   "outputs": [],
   "source": []
  }
 ],
 "metadata": {
  "kernelspec": {
   "display_name": "Python 3",
   "language": "python",
   "name": "python3"
  },
  "language_info": {
   "codemirror_mode": {
    "name": "ipython",
    "version": 3
   },
   "file_extension": ".py",
   "mimetype": "text/x-python",
   "name": "python",
   "nbconvert_exporter": "python",
   "pygments_lexer": "ipython3",
   "version": "3.6.5"
  }
 },
 "nbformat": 4,
 "nbformat_minor": 2
}
