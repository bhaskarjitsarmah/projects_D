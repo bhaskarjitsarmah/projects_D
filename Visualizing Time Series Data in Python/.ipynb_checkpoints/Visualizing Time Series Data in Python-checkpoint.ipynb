{
 "cells": [
  {
   "cell_type": "markdown",
   "metadata": {},
   "source": [
    "### Loading time series data"
   ]
  },
  {
   "cell_type": "code",
   "execution_count": 1,
   "metadata": {},
   "outputs": [],
   "source": [
    "import numpy as np\n",
    "import pandas as pd\n",
    "import matplotlib.pyplot as plt\n",
    "\n",
    "%matplotlib inline"
   ]
  },
  {
   "cell_type": "code",
   "execution_count": 2,
   "metadata": {},
   "outputs": [
    {
     "data": {
      "text/html": [
       "<div>\n",
       "<style scoped>\n",
       "    .dataframe tbody tr th:only-of-type {\n",
       "        vertical-align: middle;\n",
       "    }\n",
       "\n",
       "    .dataframe tbody tr th {\n",
       "        vertical-align: top;\n",
       "    }\n",
       "\n",
       "    .dataframe thead th {\n",
       "        text-align: right;\n",
       "    }\n",
       "</style>\n",
       "<table border=\"1\" class=\"dataframe\">\n",
       "  <thead>\n",
       "    <tr style=\"text-align: right;\">\n",
       "      <th></th>\n",
       "      <th>date</th>\n",
       "      <th>Y</th>\n",
       "    </tr>\n",
       "  </thead>\n",
       "  <tbody>\n",
       "    <tr>\n",
       "      <th>0</th>\n",
       "      <td>01-01-1860</td>\n",
       "      <td>5</td>\n",
       "    </tr>\n",
       "    <tr>\n",
       "      <th>1</th>\n",
       "      <td>01-01-1861</td>\n",
       "      <td>3</td>\n",
       "    </tr>\n",
       "    <tr>\n",
       "      <th>2</th>\n",
       "      <td>01-01-1862</td>\n",
       "      <td>0</td>\n",
       "    </tr>\n",
       "    <tr>\n",
       "      <th>3</th>\n",
       "      <td>01-01-1863</td>\n",
       "      <td>2</td>\n",
       "    </tr>\n",
       "    <tr>\n",
       "      <th>4</th>\n",
       "      <td>01-01-1864</td>\n",
       "      <td>0</td>\n",
       "    </tr>\n",
       "  </tbody>\n",
       "</table>\n",
       "</div>"
      ],
      "text/plain": [
       "         date  Y\n",
       "0  01-01-1860  5\n",
       "1  01-01-1861  3\n",
       "2  01-01-1862  0\n",
       "3  01-01-1863  2\n",
       "4  01-01-1864  0"
      ]
     },
     "execution_count": 2,
     "metadata": {},
     "output_type": "execute_result"
    }
   ],
   "source": [
    "discoveries = pd.read_csv('ch1_discoveries.csv')\n",
    "discoveries.head(5)"
   ]
  },
  {
   "cell_type": "markdown",
   "metadata": {},
   "source": [
    "### Check the datatype"
   ]
  },
  {
   "cell_type": "markdown",
   "metadata": {},
   "source": [
    "while working with time series data in pandas, any date information should be formatted as `datetime64` type"
   ]
  },
  {
   "cell_type": "code",
   "execution_count": 3,
   "metadata": {},
   "outputs": [
    {
     "data": {
      "text/plain": [
       "date    object\n",
       "Y        int64\n",
       "dtype: object"
      ]
     },
     "execution_count": 3,
     "metadata": {},
     "output_type": "execute_result"
    }
   ],
   "source": [
    "discoveries.dtypes"
   ]
  },
  {
   "cell_type": "code",
   "execution_count": 4,
   "metadata": {},
   "outputs": [
    {
     "name": "stdout",
     "output_type": "stream",
     "text": [
      "date    datetime64[ns]\n",
      "Y                int64\n",
      "dtype: object\n"
     ]
    }
   ],
   "source": [
    "# Convert the date column to a datestamp type\n",
    "discoveries['date'] = pd.to_datetime(discoveries['date'])\n",
    "\n",
    "# Print the data type of each column in discoveries, again\n",
    "print(discoveries.dtypes)"
   ]
  },
  {
   "cell_type": "markdown",
   "metadata": {},
   "source": [
    "### The first plot"
   ]
  },
  {
   "cell_type": "code",
   "execution_count": 5,
   "metadata": {},
   "outputs": [
    {
     "data": {
      "image/png": "[encoded data removed]",
      "text/plain": [
       "<Figure size 432x288 with 1 Axes>"
      ]
     },
     "metadata": {},
     "output_type": "display_data"
    }
   ],
   "source": [
    "# Set the date column as the index of your DataFrame discoveries\n",
    "discoveries = discoveries.set_index('date')\n",
    "\n",
    "# Plot the time series in your DataFrame\n",
    "ax = discoveries.plot(color='blue')\n",
    "\n",
    "# Specify the x-axis label in your plot\n",
    "ax.set_xlabel('Date')\n",
    "\n",
    "# Specify the y-axis label in your plot\n",
    "ax.set_ylabel('Number of great discoveries')\n",
    "\n",
    "# Show plot\n",
    "plt.show()"
   ]
  },
  {
   "cell_type": "markdown",
   "metadata": {},
   "source": [
    "### Finding missing values"
   ]
  },
  {
   "cell_type": "code",
   "execution_count": 3,
   "metadata": {},
   "outputs": [
    {
     "data": {
      "text/html": [
       "<div>\n",
       "<style scoped>\n",
       "    .dataframe tbody tr th:only-of-type {\n",
       "        vertical-align: middle;\n",
       "    }\n",
       "\n",
       "    .dataframe tbody tr th {\n",
       "        vertical-align: top;\n",
       "    }\n",
       "\n",
       "    .dataframe thead th {\n",
       "        text-align: right;\n",
       "    }\n",
       "</style>\n",
       "<table border=\"1\" class=\"dataframe\">\n",
       "  <thead>\n",
       "    <tr style=\"text-align: right;\">\n",
       "      <th></th>\n",
       "      <th>datestamp</th>\n",
       "      <th>co2</th>\n",
       "    </tr>\n",
       "  </thead>\n",
       "  <tbody>\n",
       "    <tr>\n",
       "      <th>0</th>\n",
       "      <td>1958-03-29</td>\n",
       "      <td>316.1</td>\n",
       "    </tr>\n",
       "    <tr>\n",
       "      <th>1</th>\n",
       "      <td>1958-04-05</td>\n",
       "      <td>317.3</td>\n",
       "    </tr>\n",
       "    <tr>\n",
       "      <th>2</th>\n",
       "      <td>1958-04-12</td>\n",
       "      <td>317.6</td>\n",
       "    </tr>\n",
       "    <tr>\n",
       "      <th>3</th>\n",
       "      <td>1958-04-19</td>\n",
       "      <td>317.5</td>\n",
       "    </tr>\n",
       "    <tr>\n",
       "      <th>4</th>\n",
       "      <td>1958-04-26</td>\n",
       "      <td>316.4</td>\n",
       "    </tr>\n",
       "    <tr>\n",
       "      <th>5</th>\n",
       "      <td>1958-05-03</td>\n",
       "      <td>316.9</td>\n",
       "    </tr>\n",
       "    <tr>\n",
       "      <th>6</th>\n",
       "      <td>1958-05-10</td>\n",
       "      <td>NaN</td>\n",
       "    </tr>\n",
       "  </tbody>\n",
       "</table>\n",
       "</div>"
      ],
      "text/plain": [
       "    datestamp    co2\n",
       "0  1958-03-29  316.1\n",
       "1  1958-04-05  317.3\n",
       "2  1958-04-12  317.6\n",
       "3  1958-04-19  317.5\n",
       "4  1958-04-26  316.4\n",
       "5  1958-05-03  316.9\n",
       "6  1958-05-10    NaN"
      ]
     },
     "execution_count": 3,
     "metadata": {},
     "output_type": "execute_result"
    }
   ],
   "source": [
    "co2_levels = pd.read_csv('ch2_co2_levels.csv')\n",
    "co2_levels.head(7)"
   ]
  },
  {
   "cell_type": "code",
   "execution_count": 4,
   "metadata": {},
   "outputs": [
    {
     "name": "stdout",
     "output_type": "stream",
     "text": [
      "co2    59\n",
      "dtype: int64\n"
     ]
    }
   ],
   "source": [
    "# Convert string date to datetime object\n",
    "co2_levels['datestamp'] = pd.to_datetime(co2_levels['datestamp'])\n",
    "\n",
    "# Set datestamp column as index\n",
    "co2_levels = co2_levels.set_index('datestamp')\n",
    "\n",
    "# Print out the number of missing values\n",
    "print(co2_levels.isnull().sum())"
   ]
  },
  {
   "cell_type": "markdown",
   "metadata": {},
   "source": [
    "### Handle missing values"
   ]
  },
  {
   "cell_type": "code",
   "execution_count": 5,
   "metadata": {},
   "outputs": [
    {
     "name": "stdout",
     "output_type": "stream",
     "text": [
      "co2    0\n",
      "dtype: int64\n"
     ]
    }
   ],
   "source": [
    "# Impute missing values with the next valid observation\n",
    "co2_levels = co2_levels.fillna(method='bfill')\n",
    "\n",
    "# Print out the number of missing values\n",
    "print(co2_levels.isnull().sum())"
   ]
  },
  {
   "cell_type": "markdown",
   "metadata": {},
   "source": [
    "## Moving Averages"
   ]
  },
  {
   "cell_type": "markdown",
   "metadata": {},
   "source": [
    "In the field of time series analysis, a moving average can be used for many different purposes - \n",
    "<ol>\n",
    "    <li>smoothing out short term fluctuations</li>\n",
    "    <li>removing outliers</li>\n",
    "    <li>highlighting long term trends or cycles</li>\n",
    "</ol>"
   ]
  },
  {
   "cell_type": "markdown",
   "metadata": {},
   "source": [
    "### Display rolling averages"
   ]
  },
  {
   "cell_type": "code",
   "execution_count": 6,
   "metadata": {},
   "outputs": [
    {
     "data": {
      "image/png": "[encoded data removed]",
      "text/plain": [
       "<Figure size 432x288 with 1 Axes>"
      ]
     },
     "metadata": {},
     "output_type": "display_data"
    }
   ],
   "source": [
    "# Compute the 52 weeks rolling mean of the co2_levels DataFrame\n",
    "ma = co2_levels.rolling(window=52).mean()\n",
    "\n",
    "# Compute the 52 weeks rolling standard deviation of the co2_levels DataFrame\n",
    "mstd = co2_levels.rolling(window=52).std()\n",
    "\n",
    "# Add the upper bound column to the ma DataFrame\n",
    "ma['upper'] = ma['co2'] + (2 * mstd['co2'])\n",
    "\n",
    "# Add the lower bound column to the ma DataFrame\n",
    "ma['lower'] = ma['co2'] - (2 * mstd['co2'])\n",
    "\n",
    "# Plot the content of the ma DataFrame\n",
    "ax = ma.plot(linewidth=0.8, fontsize=6)\n",
    "\n",
    "# Specify labels, legend, and show the plot\n",
    "ax.set_xlabel('Date', fontsize=10)\n",
    "ax.set_ylabel('CO2 levels in Mauai Hawaii', fontsize=10)\n",
    "ax.set_title('Rolling mean and variance of CO2 levels\\nin Mauai Hawaii from 1958 to 2001', fontsize=10)\n",
    "plt.show()"
   ]
  },
  {
   "cell_type": "markdown",
   "metadata": {},
   "source": [
    "### Display aggregated values"
   ]
  },
  {
   "cell_type": "code",
   "execution_count": 7,
   "metadata": {},
   "outputs": [
    {
     "data": {
      "image/png": "[encoded data removed]",
      "text/plain": [
       "<Figure size 432x288 with 1 Axes>"
      ]
     },
     "metadata": {},
     "output_type": "display_data"
    }
   ],
   "source": [
    "# Get month for each dates in the index of co2_levels\n",
    "index_month = co2_levels.index.month\n",
    "\n",
    "# Compute the mean CO2 levels for each month of the year\n",
    "mean_co2_levels_by_month = co2_levels.groupby(index_month).mean()\n",
    "\n",
    "# Plot the mean CO2 levels for each month of the year\n",
    "mean_co2_levels_by_month.plot(fontsize=6)\n",
    "\n",
    "# Specify the fontsize on the legend\n",
    "plt.legend(fontsize=10)\n",
    "\n",
    "# Show plot\n",
    "plt.show()"
   ]
  },
  {
   "cell_type": "code",
   "execution_count": null,
   "metadata": {},
   "outputs": [],
   "source": []
  }
 ],
 "metadata": {
  "kernelspec": {
   "display_name": "Python 3",
   "language": "python",
   "name": "python3"
  },
  "language_info": {
   "codemirror_mode": {
    "name": "ipython",
    "version": 3
   },
   "file_extension": ".py",
   "mimetype": "text/x-python",
   "name": "python",
   "nbconvert_exporter": "python",
   "pygments_lexer": "ipython3",
   "version": "3.6.5"
  }
 },
 "nbformat": 4,
 "nbformat_minor": 2
}
